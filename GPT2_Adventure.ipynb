{
  "nbformat": 4,
  "nbformat_minor": 0,
  "metadata": {
    "colab": {
      "name": "GPT2 Adventure",
      "version": "0.3.2",
      "provenance": [],
      "collapsed_sections": [],
      "toc_visible": true
    },
    "kernelspec": {
      "name": "python3",
      "display_name": "Python 3"
    },
    "accelerator": "GPU"
  },
  "cells": [
    {
      "cell_type": "markdown",
      "metadata": {
        "id": "H7LoMj4GA4n_",
        "colab_type": "text"
      },
      "source": [
        "#  GPT Adventure\n",
        "*By Nathan Whitmore, based on a tutorial by [Max Woolf](http://minimaxir.com)*\n",
        "\n",
        "This is the game! Because it takes a fairly large amount of computing power and data storage, it runs on Google's servers through their Colab service. All you need to do to play it is run the startup code and then the \"Play the game\" code.\n",
        "\n",
        "\n"
      ]
    },
    {
      "cell_type": "markdown",
      "metadata": {
        "id": "DokdjmMDsIqq",
        "colab_type": "text"
      },
      "source": [
        "##Setup steps\n",
        "Before playing this must be run to put the needed files on Google's servers. Click the arrow on the top left of the box below to run setup."
      ]
    },
    {
      "cell_type": "code",
      "metadata": {
        "id": "KBkpRgBCBS2_",
        "colab_type": "code",
        "outputId": "00cacf3e-4244-4494-d62e-813603986eb8",
        "colab": {
          "base_uri": "https://localhost:8080/",
          "height": 502
        }
      },
      "source": [
        "#Click the number or arrow to the left to run\n",
        "\n",
        "!pip install -q gpt-2-simple\n",
        "import gpt_2_simple as gpt2\n",
        "from datetime import datetime\n",
        "from google.colab import files\n",
        "!wget -O checkpoint_run1.tar https://northwestern.box.com/shared/static/8k34b5sfq1ib5e4kmwjehxtpjotfdszl.tar\n",
        "!tar -xvf checkpoint_run1.tar\n",
        "sess = gpt2.start_tf_sess()\n",
        "gpt2.load_gpt2(sess)\n",
        "print(\"Setup complete!\")"
      ],
      "execution_count": 0,
      "outputs": [
        {
          "output_type": "stream",
          "text": [
            "\u001b[?25l\r\u001b[K     |▌                               | 10kB 17.2MB/s eta 0:00:01\r\u001b[K     |█                               | 20kB 21.0MB/s eta 0:00:01\r\u001b[K     |█▌                              | 30kB 26.5MB/s eta 0:00:01\r\u001b[K     |██                              | 40kB 9.4MB/s eta 0:00:01\r\u001b[K     |██▌                             | 51kB 11.0MB/s eta 0:00:01\r\u001b[K     |███                             | 61kB 12.6MB/s eta 0:00:01\r\u001b[K     |███▌                            | 71kB 14.1MB/s eta 0:00:01\r\u001b[K     |████                            | 81kB 15.6MB/s eta 0:00:01\r\u001b[K     |████▌                           | 92kB 17.1MB/s eta 0:00:01\r\u001b[K     |█████                           | 102kB 18.4MB/s eta 0:00:01\r\u001b[K     |█████▌                          | 112kB 18.4MB/s eta 0:00:01\r\u001b[K     |██████                          | 122kB 18.4MB/s eta 0:00:01\r\u001b[K     |██████▌                         | 133kB 18.4MB/s eta 0:00:01\r\u001b[K     |███████                         | 143kB 18.4MB/s eta 0:00:01\r\u001b[K     |███████▌                        | 153kB 18.4MB/s eta 0:00:01\r\u001b[K     |████████                        | 163kB 18.4MB/s eta 0:00:01\r\u001b[K     |████████▌                       | 174kB 18.4MB/s eta 0:00:01\r\u001b[K     |█████████                       | 184kB 18.4MB/s eta 0:00:01\r\u001b[K     |█████████▌                      | 194kB 18.4MB/s eta 0:00:01\r\u001b[K     |██████████                      | 204kB 18.4MB/s eta 0:00:01\r\u001b[K     |██████████▌                     | 215kB 18.4MB/s eta 0:00:01\r\u001b[K     |███████████                     | 225kB 18.4MB/s eta 0:00:01\r\u001b[K     |███████████▌                    | 235kB 18.4MB/s eta 0:00:01\r\u001b[K     |████████████                    | 245kB 18.4MB/s eta 0:00:01\r\u001b[K     |████████████▌                   | 256kB 18.4MB/s eta 0:00:01\r\u001b[K     |█████████████                   | 266kB 18.4MB/s eta 0:00:01\r\u001b[K     |█████████████▌                  | 276kB 18.4MB/s eta 0:00:01\r\u001b[K     |██████████████                  | 286kB 18.4MB/s eta 0:00:01\r\u001b[K     |██████████████▌                 | 296kB 18.4MB/s eta 0:00:01\r\u001b[K     |███████████████                 | 307kB 18.4MB/s eta 0:00:01\r\u001b[K     |███████████████▌                | 317kB 18.4MB/s eta 0:00:01\r\u001b[K     |████████████████                | 327kB 18.4MB/s eta 0:00:01\r\u001b[K     |████████████████▌               | 337kB 18.4MB/s eta 0:00:01\r\u001b[K     |█████████████████               | 348kB 18.4MB/s eta 0:00:01\r\u001b[K     |█████████████████▌              | 358kB 18.4MB/s eta 0:00:01\r\u001b[K     |██████████████████              | 368kB 18.4MB/s eta 0:00:01\r\u001b[K     |██████████████████▌             | 378kB 18.4MB/s eta 0:00:01\r\u001b[K     |███████████████████             | 389kB 18.4MB/s eta 0:00:01\r\u001b[K     |███████████████████▌            | 399kB 18.4MB/s eta 0:00:01\r\u001b[K     |████████████████████            | 409kB 18.4MB/s eta 0:00:01\r\u001b[K     |████████████████████▌           | 419kB 18.4MB/s eta 0:00:01\r\u001b[K     |█████████████████████           | 430kB 18.4MB/s eta 0:00:01\r\u001b[K     |█████████████████████▌          | 440kB 18.4MB/s eta 0:00:01\r\u001b[K     |██████████████████████          | 450kB 18.4MB/s eta 0:00:01\r\u001b[K     |██████████████████████▌         | 460kB 18.4MB/s eta 0:00:01\r\u001b[K     |███████████████████████         | 471kB 18.4MB/s eta 0:00:01\r\u001b[K     |███████████████████████▌        | 481kB 18.4MB/s eta 0:00:01\r\u001b[K     |████████████████████████        | 491kB 18.4MB/s eta 0:00:01\r\u001b[K     |████████████████████████▌       | 501kB 18.4MB/s eta 0:00:01\r\u001b[K     |█████████████████████████       | 512kB 18.4MB/s eta 0:00:01\r\u001b[K     |█████████████████████████▌      | 522kB 18.4MB/s eta 0:00:01\r\u001b[K     |██████████████████████████      | 532kB 18.4MB/s eta 0:00:01\r\u001b[K     |██████████████████████████▌     | 542kB 18.4MB/s eta 0:00:01\r\u001b[K     |███████████████████████████     | 552kB 18.4MB/s eta 0:00:01\r\u001b[K     |███████████████████████████▌    | 563kB 18.4MB/s eta 0:00:01\r\u001b[K     |████████████████████████████    | 573kB 18.4MB/s eta 0:00:01\r\u001b[K     |████████████████████████████▌   | 583kB 18.4MB/s eta 0:00:01\r\u001b[K     |█████████████████████████████   | 593kB 18.4MB/s eta 0:00:01\r\u001b[K     |█████████████████████████████▌  | 604kB 18.4MB/s eta 0:00:01\r\u001b[K     |██████████████████████████████  | 614kB 18.4MB/s eta 0:00:01\r\u001b[K     |██████████████████████████████▌ | 624kB 18.4MB/s eta 0:00:01\r\u001b[K     |███████████████████████████████ | 634kB 18.4MB/s eta 0:00:01\r\u001b[K     |███████████████████████████████▌| 645kB 18.4MB/s eta 0:00:01\r\u001b[K     |████████████████████████████████| 655kB 18.4MB/s \n",
            "\u001b[?25h  Building wheel for gpt-2-simple (setup.py) ... \u001b[?25l\u001b[?25hdone\n",
            "  Building wheel for regex (setup.py) ... \u001b[?25l\u001b[?25hdone\n",
            "--2019-09-05 23:57:06--  https://northwestern.box.com/shared/static/8k34b5sfq1ib5e4kmwjehxtpjotfdszl.tar\n",
            "Resolving northwestern.box.com (northwestern.box.com)... 185.235.236.197\n",
            "Connecting to northwestern.box.com (northwestern.box.com)|185.235.236.197|:443... connected.\n",
            "HTTP request sent, awaiting response... 301 Moved Permanently\n",
            "Location: /public/static/8k34b5sfq1ib5e4kmwjehxtpjotfdszl.tar [following]\n",
            "--2019-09-05 23:57:06--  https://northwestern.box.com/public/static/8k34b5sfq1ib5e4kmwjehxtpjotfdszl.tar\n",
            "Reusing existing connection to northwestern.box.com:443.\n",
            "HTTP request sent, awaiting response... 301 Moved Permanently\n",
            "Location: https://northwestern.app.box.com/public/static/8k34b5sfq1ib5e4kmwjehxtpjotfdszl.tar [following]\n",
            "--2019-09-05 23:57:07--  https://northwestern.app.box.com/public/static/8k34b5sfq1ib5e4kmwjehxtpjotfdszl.tar\n",
            "Resolving northwestern.app.box.com (northwestern.app.box.com)... 185.235.236.199\n",
            "Connecting to northwestern.app.box.com (northwestern.app.box.com)|185.235.236.199|:443... connected.\n",
            "HTTP request sent, awaiting response... 302 Found\n",
            "Location: https://public.boxcloud.com/d/1/b1!tWttbJoNo4roMsR4NQca5x51BUZXmGUK8QbYjrJNnubnQJzGjCW-9XhS4NDSsWXVdDRuRZ0tHTrft18P9XyfDoRhFWsjOWqk5UUZ8MgbNB_qF_bbyJedeLl3q_C9LdkocFIXHmyoFR7Fa2RVcFmT37qMLEx8YCnUFiwueFaFUc7MvdxXH3aWFd5MdwxXS-hr7cFHWcyVMLaY39N2hLwQg1374gh9A2a7FrhSbKDGiF0Ov5YakuAY_g6RuJ-zfOFXmJcPgb7Tpb01zsf-fnZWU1du42mfdbH7ew91BJo-Leqf1OhKPmHzd-eMLD52kwEm4CBMr4K2rAnlNps3bB_jU_sEEYrHenVbY1-vGkC1jK2RGlU75PZx1qFw-FebDSp9umM48Vab5JCy93YLdqFR_YLyQFEgzVjnUFbsCt53pbIBJduygMhED-HwL4C39ke2G38l6Ln0plLj4NyxQGTkCE2qWS0I7IkJptHYDLaGQfqighuUCV09903FQWcajlS4_zC9fYv_oOtW9AtvTIHZ9vxrpVExdTPAV-A46FJRXzB_C_l-Q2GsQh5YAl2RllzZUFnK7HpLmzwxgVU1LLWYBuhNHWtQhxpkpISqh-ImcilyMhWLKX0SZUk128FNM2U240shRvzU817Cce3SgJKr-pRAVMd-XJjiYg1SycT-cRxbonBXRK2G9zKu7UJMMGcsjsZ-oo8Qn3oGaucREcEzSTISGG0seczgIv02nbcLhuWCxDM29tdv9x4w8GsmCXpnmDZ9eYP_6TZd7r4drtoBGcPo9c3Yb_lhYkCSqsMvWf7glCw3daKMtF2zHtw7TWc3k6egq3RkypzuoEeTG85L3RstCfAM97zSmq9HYcFnwAfC10UztvnB_3uk-PFk6riPWpvhS_aAJpgUPU1vo6ORyZkLFlZKOQZaspSplMOP3j06zvRuQYuxRLfseS6jZm_-ltsNsjyUtuM9jn3gn6dO5YQnXskp2GiN1xrss0lirLYUa_7NvmrjDOrKVRxzSKYAvSOBrr30XikwaTQcsWSUMLdF4t_BQusgC58Dh_gwFDHZ6MSXGDN_wtfuo-n3pw-U0lnpA9AVHyKhqLCj5wARc91LAnayXvnQYq033bao8X0oO5euppFTKX62uEuJyagQJ06Kq2jWcb32RUbaLXDbBMg-jN3SnbY1pdv2H9w7wSyvSKKjFphwNBluDPyUtxJ6Wqa3uzdjNVnd9JRzE3kJbeqzl8UXoZu55aGKKKPH3SP8oxe__F7ELyIUB8mi34B9tISxuEVbazs52hcT6_WD3j74wdHaT_msK6QfJ5KXwKzDS2RET8o0txnhxE1YCRSgu89ApwKOAOHBS-lb-vrIDBk5iIeTXKctK-5LPgd8zfTqNtw6SH5Mh8lluUk./download [following]\n",
            "--2019-09-05 23:57:08--  https://public.boxcloud.com/d/1/b1!tWttbJoNo4roMsR4NQca5x51BUZXmGUK8QbYjrJNnubnQJzGjCW-9XhS4NDSsWXVdDRuRZ0tHTrft18P9XyfDoRhFWsjOWqk5UUZ8MgbNB_qF_bbyJedeLl3q_C9LdkocFIXHmyoFR7Fa2RVcFmT37qMLEx8YCnUFiwueFaFUc7MvdxXH3aWFd5MdwxXS-hr7cFHWcyVMLaY39N2hLwQg1374gh9A2a7FrhSbKDGiF0Ov5YakuAY_g6RuJ-zfOFXmJcPgb7Tpb01zsf-fnZWU1du42mfdbH7ew91BJo-Leqf1OhKPmHzd-eMLD52kwEm4CBMr4K2rAnlNps3bB_jU_sEEYrHenVbY1-vGkC1jK2RGlU75PZx1qFw-FebDSp9umM48Vab5JCy93YLdqFR_YLyQFEgzVjnUFbsCt53pbIBJduygMhED-HwL4C39ke2G38l6Ln0plLj4NyxQGTkCE2qWS0I7IkJptHYDLaGQfqighuUCV09903FQWcajlS4_zC9fYv_oOtW9AtvTIHZ9vxrpVExdTPAV-A46FJRXzB_C_l-Q2GsQh5YAl2RllzZUFnK7HpLmzwxgVU1LLWYBuhNHWtQhxpkpISqh-ImcilyMhWLKX0SZUk128FNM2U240shRvzU817Cce3SgJKr-pRAVMd-XJjiYg1SycT-cRxbonBXRK2G9zKu7UJMMGcsjsZ-oo8Qn3oGaucREcEzSTISGG0seczgIv02nbcLhuWCxDM29tdv9x4w8GsmCXpnmDZ9eYP_6TZd7r4drtoBGcPo9c3Yb_lhYkCSqsMvWf7glCw3daKMtF2zHtw7TWc3k6egq3RkypzuoEeTG85L3RstCfAM97zSmq9HYcFnwAfC10UztvnB_3uk-PFk6riPWpvhS_aAJpgUPU1vo6ORyZkLFlZKOQZaspSplMOP3j06zvRuQYuxRLfseS6jZm_-ltsNsjyUtuM9jn3gn6dO5YQnXskp2GiN1xrss0lirLYUa_7NvmrjDOrKVRxzSKYAvSOBrr30XikwaTQcsWSUMLdF4t_BQusgC58Dh_gwFDHZ6MSXGDN_wtfuo-n3pw-U0lnpA9AVHyKhqLCj5wARc91LAnayXvnQYq033bao8X0oO5euppFTKX62uEuJyagQJ06Kq2jWcb32RUbaLXDbBMg-jN3SnbY1pdv2H9w7wSyvSKKjFphwNBluDPyUtxJ6Wqa3uzdjNVnd9JRzE3kJbeqzl8UXoZu55aGKKKPH3SP8oxe__F7ELyIUB8mi34B9tISxuEVbazs52hcT6_WD3j74wdHaT_msK6QfJ5KXwKzDS2RET8o0txnhxE1YCRSgu89ApwKOAOHBS-lb-vrIDBk5iIeTXKctK-5LPgd8zfTqNtw6SH5Mh8lluUk./download\n",
            "Resolving public.boxcloud.com (public.boxcloud.com)... 185.235.236.200\n",
            "Connecting to public.boxcloud.com (public.boxcloud.com)|185.235.236.200|:443... connected.\n",
            "HTTP request sent, awaiting response... 200 OK\n",
            "Length: 2003732480 (1.9G) [application/x-tar]\n",
            "Saving to: ‘checkpoint_run1.tar’\n",
            "\n",
            "checkpoint_run1.tar   0%[                    ]   1.22M  1.99MB/s               "
          ],
          "name": "stdout"
        }
      ]
    },
    {
      "cell_type": "markdown",
      "metadata": {
        "id": "ClJwpF_ACONp",
        "colab_type": "text"
      },
      "source": [
        "## Play the game\n",
        "\n",
        "Once you see \"Setup complete\" in the box above, click the arrow in the box below to start running the game. It will take a couple of seconds for the game to generate the first prompt."
      ]
    },
    {
      "cell_type": "code",
      "metadata": {
        "id": "4RNY6RBI9LmL",
        "colab_type": "code",
        "outputId": "203bd39f-b18e-41a1-8155-8688f5be4a00",
        "colab": {
          "base_uri": "https://localhost:8080/",
          "height": 237
        }
      },
      "source": [
        "#Click the number or arrow to the left to run\n",
        "\n",
        "\n",
        "\n",
        "def isContext(text): #is a iece of textthis a context change? (i.e. moving to a new room)\n",
        "  if \"you are\" in text or \"we are\" in text or \"this is\" in text or '''you're''' in text: #context change\n",
        "    return True\n",
        "  else:\n",
        "    return False\n",
        "\n",
        "\n",
        "\n",
        "#This text defines where your character starts! You can make it anything!\n",
        "history=\"you float in space, \" \n",
        "\n",
        "STRICT_MODE=True #Change to True to make the game a bit more coherent, but possibly a bit less interesting\n",
        "\n",
        "locContext=\"\"\n",
        "alreadyDone=\"\"\n",
        "prompt=\"\"\n",
        "while True:\n",
        "  newprompt=\"no response\"\n",
        "  gpo=gpt2.generate(sess, temperature=0.1,prefix=history,run_name='run1',length=100,return_as_list=True,nsamples=3,batch_size=3,top_p=0.99)\n",
        "  for candidate in gpo:\n",
        "    goodCandidate=False\n",
        "    result=candidate\n",
        "    splitup=result.split(\"\\n\")\n",
        "    newprompt=\"\"\n",
        "    hasContext=False\n",
        "    for item in splitup:\n",
        "      \n",
        "      if item not in alreadyDone and item not in newprompt:\n",
        "        if (\".\" in item or \"?\" in item or \"!\" in item) and (hasContext==False or  isContext(item)==False): #If it's a next player action, then stop, otherwise keep going\n",
        "          newprompt=newprompt+item\n",
        "          goodCandidate=True\n",
        "          if isContext(item):\n",
        "            hasContext=True\n",
        "        else:\n",
        "          if goodCandidate and STRICT_MODE: #This prevents GPT from taking actions on our behalf. If strict mode is on actions are never taken, if it is off they are taklen but not shown to us. Strict mode on can make the game more playable at the expense of less interesting descriptions \n",
        "            break\n",
        "    if goodCandidate:\n",
        "      break\n",
        "  if len(newprompt) > 3: #this will be blank if GPT couldn't come up with anything\n",
        "    if isContext(newprompt): #This is updating the location context\n",
        "      locContext=newprompt\n",
        "    print(newprompt.replace(\".\",\"\\n\").upper())\n",
        "    prompt=newprompt\n",
        "    action=input()\n",
        "    history=locContext+\"\\n\"+prompt+\"\\n\"+action\n",
        "    alreadyDone=alreadyDone+prompt+\"\\n\"+action\n",
        "  else:\n",
        "    print(\"I don't know how to do that\".upper())\n",
        "    newaction=input()\n",
        "    history=locContext+\"\\n\"+prompt+\"\\n\"+newaction\n",
        "    alreadyDone=alreadyDone+\"\\n\"+newaction\n",
        "    \n",
        "  "
      ],
      "execution_count": 0,
      "outputs": [
        {
          "output_type": "stream",
          "text": [
            "W0905 17:58:27.372755 140436562417536 deprecation.py:323] From /usr/local/lib/python3.6/dist-packages/gpt_2_simple/src/sample.py:32: add_dispatch_support.<locals>.wrapper (from tensorflow.python.ops.array_ops) is deprecated and will be removed in a future version.\n",
            "Instructions for updating:\n",
            "Use tf.where in 2.0, which has the same broadcast rule as np.where\n"
          ],
          "name": "stderr"
        },
        {
          "output_type": "stream",
          "text": [
            "YOU ARE IN A FEATURELESS WHITE ROOM\n",
            " AN OMINOUS HUM COMES FROM SOMEWHERE UP AHEAD\n",
            " SOMETHING SINISTER SEEMS TO HAVE OCCURRED TO SOME OF YOU AT THE NEARBY ENDGAME LOCATION\n",
            "YOU WILL NOT BE ABLE TO TAKE THE SAPPHIRE-ENCRUSTED BRACELET YOU JUST STOLE FROM HERE\n",
            " OF COURSE, IF YOU GO DOWN YOU WILL FIND NOTHING\n",
            "YOU WILL NEED THE SAPPHIRE-ENCRUSTED BRACELET SCATTERED ABOUT ON THE FLOOR\n",
            "\n",
            "take bracelet\n"
          ],
          "name": "stdout"
        }
      ]
    },
    {
      "cell_type": "markdown",
      "metadata": {
        "id": "wmTXWNUygS5E",
        "colab_type": "text"
      },
      "source": [
        "# LICENSE\n",
        "\n",
        "MIT License\n",
        "\n",
        "Copyright (c) 2019 Nathan Whitmore, Max Woolf\n",
        "\n",
        "Permission is hereby granted, free of charge, to any person obtaining a copy\n",
        "of this software and associated documentation files (the \"Software\"), to deal\n",
        "in the Software without restriction, including without limitation the rights\n",
        "to use, copy, modify, merge, publish, distribute, sublicense, and/or sell\n",
        "copies of the Software, and to permit persons to whom the Software is\n",
        "furnished to do so, subject to the following conditions:\n",
        "\n",
        "The above copyright notice and this permission notice shall be included in all\n",
        "copies or substantial portions of the Software.\n",
        "\n",
        "THE SOFTWARE IS PROVIDED \"AS IS\", WITHOUT WARRANTY OF ANY KIND, EXPRESS OR\n",
        "IMPLIED, INCLUDING BUT NOT LIMITED TO THE WARRANTIES OF MERCHANTABILITY,\n",
        "FITNESS FOR A PARTICULAR PURPOSE AND NONINFRINGEMENT. IN NO EVENT SHALL THE\n",
        "AUTHORS OR COPYRIGHT HOLDERS BE LIABLE FOR ANY CLAIM, DAMAGES OR OTHER\n",
        "LIABILITY, WHETHER IN AN ACTION OF CONTRACT, TORT OR OTHERWISE, ARISING FROM,\n",
        "OUT OF OR IN CONNECTION WITH THE SOFTWARE OR THE USE OR OTHER DEALINGS IN THE\n",
        "SOFTWARE."
      ]
    }
  ]
}